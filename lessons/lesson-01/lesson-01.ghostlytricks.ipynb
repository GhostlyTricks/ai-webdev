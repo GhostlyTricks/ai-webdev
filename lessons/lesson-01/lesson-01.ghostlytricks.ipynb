{
  "metadata": {
    "kernelspec": {
      "language": "python",
      "display_name": "Python 3",
      "name": "python3"
    },
    "language_info": {
      "name": "python",
      "version": "3.7.12",
      "mimetype": "text/x-python",
      "codemirror_mode": {
        "name": "ipython",
        "version": 3
      },
      "pygments_lexer": "ipython3",
      "nbconvert_exporter": "python",
      "file_extension": ".py"
    },
    "colab": {
      "name": "lesson-01.ghostlytricks.ipynb",
      "provenance": []
    }
  },
  "nbformat_minor": 0,
  "nbformat": 4,
  "cells": [
    {
      "cell_type": "markdown",
      "source": [
        "<center><h1>AI in Web Development</h1></center>\n",
        "\n",
        "---\n",
        "\n",
        "<center><h2>Lesson 01</h2></center>\n",
        "\n",
        "\n",
        "[![Open In Colab](https://colab.research.google.com/assets/colab-badge.svg)](https://colab.research.google.com/github/GhostlyTricks/ai-webdev/blob/main/lessons/lesson-01/lesson-01.ghostlytricks.ipynb)\n",
        "#Course Goals:\n",
        "\n",
        "- Languages:\n",
        "  - Python\n",
        "  - Bash\n",
        "  - JavaScript\n",
        "  - TypeScript\n",
        "  - HTML\n",
        "  - CSS\n",
        "- Version Control: \n",
        "  - GitHub\n",
        "- Deep Learning Libraries\n",
        " - Keras\n",
        " - PyTorch\n",
        " - TensorFlow\n",
        "- JavaScript Libraries\n",
        " - React\n",
        " - Threejs\n",
        "\n"
      ],
      "metadata": {
        "id": "TQw5mp55gVz5"
      }
    },
    {
      "cell_type": "markdown",
      "source": [
        "\n",
        "<h1 align='center'>Create Github Account</h1>\n",
        "<center><a href='https://github.com/'>GitHub Website</a></center>\n",
        "\n",
        "---"
      ],
      "metadata": {
        "id": "7RcgysEg9jV7"
      }
    },
    {
      "cell_type": "markdown",
      "source": [
        "\n",
        "<h1 align='center'>Fork Github Repository</h1>\n",
        "\n",
        "<center><a href='https://github.com/snsie/ai-webdev'>ai-webdev repository</a>\n",
        "<br/></center>\n",
        "\n",
        "---\n",
        "\n",
        "<br/>\n",
        "<center><img src=\"https://github.com/snsie/ai-webdev/raw/main/images/fork_button.png\" alt=\"fork button image\" /></center>\n",
        "\n",
        "\n",
        "<a href=\"https://docs.github.com/en/get-started/quickstart/fork-a-repo\">Repo Forking QuickStart</a>\n"
      ],
      "metadata": {
        "id": "1mZIwKog5_FJ"
      }
    },
    {
      "cell_type": "markdown",
      "source": [
        "additional steps for each lesson:\n",
        "1. Navigate to lesson-01.ipynb and open the file\n",
        "2. Click the two square icon to copy the raw contents of the file\n",
        "3. Click on the lesson-01 folder and then the \"Add File\" dropdown button\n",
        "4. Select the option to create a new file and set the file name to lesson-01.yourGithubName.ipynb\n",
        "5. Paste the raw contents you copied into the new file\n",
        "6. Change the colab->name to lesson-01.yourGithubName.ipynb\n",
        "7. Change the url in the colab fiile link so that it matches the path to your notebook\n",
        "8. Send that path to the instructors\n"
      ],
      "metadata": {
        "id": "NiW1--7N9ps8"
      }
    },
    {
      "cell_type": "markdown",
      "source": [
        "\n",
        "<h1 align='center'>Connect either <a href=\"https://colab.research.google.com/\">Google Colab</a> or <a href=\"https://www.kaggle.com/\">Kaggle</a> to GitHub</h1>\n",
        "\n",
        "<br/>\n",
        "\n",
        "- [Connecting Colab to GitHub](https://colab.research.google.com/github/googlecolab/colabtools/blob/master/notebooks/colab-github-demo.ipynb)\n",
        "\n",
        "- [Connecting Kaggle to GitHub](https://www.kaggle.com/product-feedback/295170)"
      ],
      "metadata": {
        "id": "SrUWnSeTvvMx"
      }
    },
    {
      "cell_type": "markdown",
      "source": [
        "<h1 align='center'>Biological Neuron</h1>\n",
        "\n",
        "---\n",
        "\n",
        "<br/>\n",
        "<center><img  src=\"https://github.com/snsie/ai-webdev/raw/main/images/biological-neuron.png\" alt='biological neuron'/></center>\n",
        "\n",
        "\n"
      ],
      "metadata": {
        "id": "wQJrduyGKPX5"
      }
    },
    {
      "cell_type": "markdown",
      "source": [
        "#<center> Perceptron\n",
        "\n",
        "---\n",
        "\n",
        "<br/>\n",
        "<center><img  src=\"https://github.com/snsie/ai-webdev/blob/main/images/perceptron.png?raw=true\" alt='biological neuron'/></center>\n"
      ],
      "metadata": {
        "id": "pqILePI_Onpk"
      }
    },
    {
      "cell_type": "markdown",
      "source": [
        "#Activation Functions\n",
        "<img src=\"https://github.com/snsie/ai-webdev/blob/main/images/activation_functions.png?raw=true\"/>\n",
        "<center><a href=\"https://en.wikipedia.org/wiki/Activation_function\">Wiki Page</a></center>"
      ],
      "metadata": {
        "id": "1ejIFLF5pMYd"
      }
    },
    {
      "cell_type": "markdown",
      "source": [
        "# Open TensorFlow's <a href='https://playground.tensorflow.org/#activation=linear&batchSize=10&dataset=gauss&regDataset=reg-plane&learningRate=0.03&regularizationRate=0&noise=0&networkShape=1&seed=3.17465&showTestData=false&discretize=false&percTrainData=50&x=true&y=true&xTimesY=false&xSquared=false&ySquared=false&cosX=false&sinX=false&cosY=false&sinY=false&collectStats=false&problem=classification&initZero=false&hideText=false'>Neural Network Playground</a>\n",
        "\n",
        "---"
      ],
      "metadata": {
        "id": "7h1hPFYc_VwC"
      }
    },
    {
      "cell_type": "code",
      "source": [
        "# We will use the libraries below to create and visualize the activation functions\n",
        "import numpy\n",
        "import matplotlib.pyplot as plt"
      ],
      "metadata": {
        "id": "JKa--VxTuWBO"
      },
      "execution_count": 18,
      "outputs": []
    },
    {
      "cell_type": "code",
      "source": [
        "# create the identity activation function\n",
        "def linear(x):\n",
        "  return x\n",
        "\n",
        "test=2\n",
        "linear(test)\n"
      ],
      "metadata": {
        "id": "EKuzfCDGvtOR",
        "colab": {
          "base_uri": "https://localhost:8080/"
        },
        "outputId": "89f0d57c-0768-47c6-e5cc-3b8c349555b0"
      },
      "execution_count": 19,
      "outputs": [
        {
          "output_type": "execute_result",
          "data": {
            "text/plain": [
              "2"
            ]
          },
          "metadata": {},
          "execution_count": 19
        }
      ]
    },
    {
      "cell_type": "code",
      "source": [
        "# create a function to plot the identity activation function\n",
        "\n",
        "\n",
        "# helpful function to generate an array of evenly spaced numbers\n",
        "# https://numpy.org/doc/stable/reference/generated/numpy.linspace.html \n",
        "def plotFn(actfn,bounds=[-2,2]):\n",
        "  xArray=np.linspace(bounds[0], bounds[1],100)\n",
        "  y=[]\n",
        "  for currX in xArray:\n",
        "    y.append(actfn(currX))\n",
        "  plt.plot(xArray,y)\n",
        "  plt.show()\n",
        "\n",
        "  # for currx in xArray:\n",
        "\n",
        "plotFn(linear)\n",
        "\n"
      ],
      "metadata": {
        "id": "7rdPy1zTP2yZ",
        "colab": {
          "base_uri": "https://localhost:8080/",
          "height": 265
        },
        "outputId": "6fdaa860-9337-4bec-a968-8b62e6697f82"
      },
      "execution_count": 20,
      "outputs": [
        {
          "output_type": "display_data",
          "data": {
            "text/plain": [
              "<Figure size 432x288 with 1 Axes>"
            ],
            "image/png": "[encoded data removed]"
          },
          "metadata": {
            "needs_background": "light"
          }
        }
      ]
    },
    {
      "cell_type": "code",
      "source": [
        "# create function to plot the output of the first network\n",
        "\n",
        "def getNetOut(input = [3,3]):\n",
        "  input.append(1)\n",
        "  wights=[0.82, 0.58, .02]\n",
        "  output=linear(np.dot(input,wights))\n",
        "  output*= 0.98\n",
        "  return output\n",
        "\n",
        "getNetOut()\n"
      ],
      "metadata": {
        "id": "P89xHBNbegQr",
        "colab": {
          "base_uri": "https://localhost:8080/"
        },
        "outputId": "41be0bc0-0c7e-465b-cb7e-5aae04bcb34a"
      },
      "execution_count": 23,
      "outputs": [
        {
          "output_type": "execute_result",
          "data": {
            "text/plain": [
              "4.135599999999998"
            ]
          },
          "metadata": {},
          "execution_count": 23
        }
      ]
    },
    {
      "cell_type": "code",
      "source": [
        "# create the sigmoid activation function\n",
        "def sigmoid(x):\n",
        "  return 1/ (1+np.exp(-x))"
      ],
      "metadata": {
        "id": "-hBl0XvKwFkH"
      },
      "execution_count": 27,
      "outputs": []
    },
    {
      "cell_type": "code",
      "source": [
        "# plot the sigmoid activation function\n",
        "plotFn(sigmoid)\n"
      ],
      "metadata": {
        "id": "DyGa-WjknRLd",
        "colab": {
          "base_uri": "https://localhost:8080/",
          "height": 265
        },
        "outputId": "c81080f5-4bbb-49fb-ca6b-7a69df34151e"
      },
      "execution_count": 28,
      "outputs": [
        {
          "output_type": "display_data",
          "data": {
            "text/plain": [
              "<Figure size 432x288 with 1 Axes>"
            ],
            "image/png": "[encoded data removed]"
          },
          "metadata": {
            "needs_background": "light"
          }
        }
      ]
    },
    {
      "cell_type": "code",
      "source": [
        ""
      ],
      "metadata": {
        "id": "QVkETuHqgu9U"
      },
      "execution_count": null,
      "outputs": []
    },
    {
      "cell_type": "markdown",
      "source": [
        "# <center><a href='https://playground.tensorflow.org/#activation=linear&batchSize=10&dataset=xor&regDataset=reg-plane&learningRate=0.03&regularizationRate=0&noise=0&networkShape=8&seed=0.44328&showTestData=false&discretize=false&percTrainData=50&x=true&y=true&xTimesY=false&xSquared=false&ySquared=false&cosX=false&sinX=false&cosY=false&sinY=false&collectStats=false&problem=classification&initZero=false&hideText=false'>XOR Problem</a></center>\n",
        "\n",
        "---\n"
      ],
      "metadata": {
        "id": "ZlofRDo4n6of"
      }
    },
    {
      "cell_type": "code",
      "source": [
        "# create the tanh activation function\n"
      ],
      "metadata": {
        "id": "l4dCjajFxiEr"
      },
      "execution_count": null,
      "outputs": []
    },
    {
      "cell_type": "code",
      "source": [
        "# plot the relu activation function\n"
      ],
      "metadata": {
        "id": "zg8onXaFr0Zd"
      },
      "execution_count": null,
      "outputs": []
    },
    {
      "cell_type": "markdown",
      "source": [
        "# <center><a href='https://playground.tensorflow.org/#activation=sigmoid&batchSize=10&dataset=circle&regDataset=reg-plane&learningRate=0.03&regularizationRate=0&noise=0&networkShape=8&seed=0.48066&showTestData=false&discretize=false&percTrainData=50&x=true&y=true&xTimesY=false&xSquared=false&ySquared=false&cosX=false&sinX=false&cosY=false&sinY=false&collectStats=false&problem=classification&initZero=false&hideText=false'>Circle Problem</a></center>\n",
        "\n",
        "---\n"
      ],
      "metadata": {
        "id": "SuUlvxOMsIgC"
      }
    },
    {
      "cell_type": "code",
      "source": [
        "# create the relu activation function\n"
      ],
      "metadata": {
        "id": "qmRecrGZxiLp"
      },
      "execution_count": null,
      "outputs": []
    },
    {
      "cell_type": "code",
      "source": [
        "# plot the tanh activation function\n"
      ],
      "metadata": {
        "id": "rF7kG6gOuD22"
      },
      "execution_count": null,
      "outputs": []
    },
    {
      "cell_type": "markdown",
      "source": [
        "# <center><a href='https://playground.tensorflow.org/#activation=tanh&batchSize=10&dataset=spiral&regDataset=reg-plane&learningRate=0.03&regularizationRate=0&noise=0&networkShape=8&seed=0.45370&showTestData=false&discretize=false&percTrainData=80&x=true&y=true&xTimesY=false&xSquared=false&ySquared=false&cosX=false&sinX=false&cosY=false&sinY=false&collectStats=false&problem=classification&initZero=false&hideText=false'>Spiral Problem</a></center>\n",
        "\n",
        "---"
      ],
      "metadata": {
        "id": "yXcZzwaXwbvm"
      }
    },
    {
      "cell_type": "code",
      "source": [
        "# create function that plots activation function outputs\n"
      ],
      "metadata": {
        "id": "OkqIvEbFuvNI"
      },
      "execution_count": null,
      "outputs": []
    },
    {
      "cell_type": "markdown",
      "source": [
        "<h1 align='center'>Optional Software</h1>\n",
        "\n",
        "<h5 align='left'>The software listed below will allow you to run the scripts you write on your own hardware. Setting up this software won't be required for this course, but would be beneficial for future projects.</h5>\n",
        "\n",
        "---\n",
        "\n",
        "<ol>\n",
        "<h3><li>Download Google Chrome</li></h3>\n",
        "<ul><li><a href=\"https://www.google.com/chrome/downloads/\">Visual Studeo Code</a></li>\n",
        "</ul>\n",
        "<h3><li>Download Visual Studio Code</li></h3>\n",
        "<ul><li><a href=\"https://code.visualstudio.com/Download\">Visual Studeo Code</a></li>\n",
        "</ul>\n",
        "\n",
        "<h3><li>Download the following vscode extensions</li></h3>\n",
        "<ul>\n",
        "<li><a href='https://marketplace.visualstudio.com/items?itemName=ms-python.python'>Python</a></li>\n",
        "<li><a href=\"https://marketplace.visualstudio.com/items?itemName=ms-toolsai.jupyter\">Jupyter Notebooks</a></li>\n",
        "<li><a href=\"https://marketplace.visualstudio.com/items?itemName=VisualStudioExptTeam.vscodeintellicode\">IntelliCode</a></li>\n",
        "<li><a href='https://marketplace.visualstudio.com/items?itemName=alefragnani.project-manager'=>project-manager</a></li>\n",
        "</ul>\n",
        "<h3><li>Download Miniconda</li></h3>\n",
        "<ul><li><a href='https://docs.conda.io/en/latest/miniconda.html'>Miniconda</a></li></ul>\n",
        "<h3><li>Download the git command line tool</li></h3>\n",
        "<ul><li><a href='https://git-scm.com/downloads'>git command line tool </a></li></ul>\n",
        "</ol>\n",
        "\n",
        "\n",
        "\n"
      ],
      "metadata": {
        "id": "O_sRKD5M9zGC"
      }
    }
  ]
}